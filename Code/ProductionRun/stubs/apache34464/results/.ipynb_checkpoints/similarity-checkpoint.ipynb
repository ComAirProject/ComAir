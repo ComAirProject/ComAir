{
 "cells": [
  {
   "cell_type": "code",
   "execution_count": 7,
   "metadata": {},
   "outputs": [
    {
     "name": "stdout",
     "output_type": "stream",
     "text": [
      "0.0 0.0 0.0 0.0 0.0\n"
     ]
    },
    {
     "data": {
      "text/plain": [
       "[<matplotlib.lines.Line2D at 0x7f73f7ac7d68>]"
      ]
     },
     "execution_count": 7,
     "metadata": {},
     "output_type": "execute_result"
    },
    {
     "data": {
      "image/png": "[encoded data removed]",
      "text/plain": [
       "<Figure size 432x288 with 1 Axes>"
      ]
     },
     "metadata": {
      "needs_background": "light"
     },
     "output_type": "display_data"
    }
   ],
   "source": [
    "import numpy as np\n",
    "import similaritymeasures\n",
    "import matplotlib.pyplot as plt\n",
    "import pandas as pd\n",
    "\n",
    "exp_data = pd.read_csv(\"/home/boqin/Projects/ComAirProject/ComAir/Code/ProductionRun/stubs/apache34464/results-fixed/inner_loop.csv\")\n",
    "\n",
    "\n",
    "# Generate random experimental data\n",
    "# x = np.random.random(100)\n",
    "# y = np.random.random(100)\n",
    "# exp_data = np.zeros((100, 2))\n",
    "# exp_data[:, 0] = df.ix[:,0]\n",
    "# exp_data[:, 1] = df.ix[:,1]\n",
    "# print(exp_data)\n",
    "exp_data = exp_data.to_numpy()\n",
    "print(exp_data)\n",
    "\n",
    "# Generate random numerical data\n",
    "# x = np.random.random(100)\n",
    "# y = np.random.random(100)\n",
    "# num_data = np.zeros((100, 2))\n",
    "# num_data[:, 0] = x\n",
    "# num_data[:, 1] = y\n",
    "\n",
    "num_data = pd.read_csv(\"/home/boqin/Projects/ComAirProject/ComAir/Code/ProductionRun/stubs/apache34464/results-fixed/inner_loop.csv\")\n",
    "num_data = num_data.to_numpy()\n",
    "\n",
    "# quantify the difference between the two curves using PCM\n",
    "pcm = similaritymeasures.pcm(exp_data, num_data)\n",
    "\n",
    "# quantify the difference between the two curves using\n",
    "# Discrete Frechet distance\n",
    "df = similaritymeasures.frechet_dist(exp_data, num_data)\n",
    "\n",
    "# quantify the difference between the two curves using\n",
    "# area between two curves\n",
    "area = similaritymeasures.area_between_two_curves(exp_data, num_data)\n",
    "\n",
    "# quantify the difference between the two curves using\n",
    "# Curve Length based similarity measure\n",
    "cl = similaritymeasures.curve_length_measure(exp_data, num_data)\n",
    "\n",
    "# quantify the difference between the two curves using\n",
    "# Dynamic Time Warping distance\n",
    "dtw, d = similaritymeasures.dtw(exp_data, num_data)\n",
    "\n",
    "# print the results\n",
    "print(pcm, df, area, cl, dtw)\n",
    "\n",
    "# plot the data\n",
    "plt.figure()\n",
    "plt.plot(exp_data[:, 0], exp_data[:, 1])\n",
    "plt.plot(num_data[:, 0], num_data[:, 1])\n",
    "#plt.show()\n"
   ]
  },
  {
   "cell_type": "code",
   "execution_count": null,
   "metadata": {},
   "outputs": [],
   "source": []
  }
 ],
 "metadata": {
  "kernelspec": {
   "display_name": "Python 3",
   "language": "python",
   "name": "python3"
  },
  "language_info": {
   "codemirror_mode": {
    "name": "ipython",
    "version": 3
   },
   "file_extension": ".py",
   "mimetype": "text/x-python",
   "name": "python",
   "nbconvert_exporter": "python",
   "pygments_lexer": "ipython3",
   "version": "3.5.2"
  }
 },
 "nbformat": 4,
 "nbformat_minor": 2
}
